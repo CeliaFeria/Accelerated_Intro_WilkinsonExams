{
 "cells": [
  {
   "cell_type": "markdown",
   "metadata": {},
   "source": [
    "Exam 1\n",
    "\n",
    "Problem 2\n"
   ]
  },
  {
   "cell_type": "code",
   "execution_count": 11,
   "metadata": {},
   "outputs": [
    {
     "name": "stdout",
     "output_type": "stream",
     "text": [
      "total 1M\n",
      "-rw-rw-r-- 1 osboxes osboxes 1M Sep  6 07:55 Exam_1_Answer.ipynb\n"
     ]
    }
   ],
   "source": [
    "ls -lh --block-size=M"
   ]
  },
  {
   "cell_type": "markdown",
   "metadata": {},
   "source": [
    "permissions: \n",
    "user: read, \n",
    "write group: read, \n",
    "write anyone: read"
   ]
  },
  {
   "cell_type": "markdown",
   "metadata": {},
   "source": [
    "Problem 3"
   ]
  },
  {
   "cell_type": "code",
   "execution_count": null,
   "metadata": {},
   "outputs": [],
   "source": []
  }
 ],
 "metadata": {
  "kernelspec": {
   "display_name": "Bash",
   "language": "bash",
   "name": "bash"
  },
  "language_info": {
   "codemirror_mode": "shell",
   "file_extension": ".sh",
   "mimetype": "text/x-sh",
   "name": "bash"
  }
 },
 "nbformat": 4,
 "nbformat_minor": 2
}
